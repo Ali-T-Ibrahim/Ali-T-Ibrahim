{
  "cells": [
    {
      "cell_type": "markdown",
      "id": "5d992fe1",
      "metadata": {
        "id": "5d992fe1"
      },
      "source": [
        "# CSC413 Assignment 2: American Sign Language\n",
        "\n",
        "**Deadline**: March 9, 2023 by 6pm\n",
        "\n",
        "**Submission**: Compile and submit a PDF report containing your code, outputs,\n",
        "and your written solutions. Do not use screenshots and images to present\n",
        "textual code/output (other than legible, hand-written answer).\n",
        "You may export the completed notebook on Google Colab, but if you do so\n",
        "**it is your responsibly to make sure that your code and answers do not get cut off**.\n",
        "\n",
        "**Late Submission**: Please see the syllabus for the late submission criteria.\n",
        "\n",
        "**Working with a partner**: You may work with a partner for this assignment.\n",
        "If you decide to work with a partner, please create your group on Markus by\n",
        "the deadline, even if you intend to use grace tokens. Markus does not allow\n",
        "you to create groups past the deadline, even if you have grace tokens remaining.\n",
        "\n",
        "[American Sign Language (ASL)](https://en.wikipedia.org/wiki/American_Sign_Language)\n",
        "is a complete, complex language that employs signs made by \n",
        "moving the hands combined with facial expressions and postures of the body. \n",
        "It is the primary language of many North Americans who are deaf and is one of several \n",
        "communication options used by people who are deaf or hard-of-hearing.\n",
        "\n",
        "The hand gestures representing English alphabets are shown below.\n",
        "\n",
        "In this assignment, we will \n",
        "classify a subset of these hand gesture images using convolutional neural networks.\n",
        "Specifically, given an image of a hand showing one of the letters A-I, we want to detect\n",
        "which letter is being represented.\n",
        "\n",
        "We will explore several convolutional architectures.\n",
        "While we will give you a tiny\n",
        "big of starter code to help make data processing a bit easier,\n",
        "you'll have a chance to build your neural network all by yourself!\n",
        "\n",
        "You may modify the starter code as you see fit, including changing the signatures of\n",
        "functions and adding/removing helper functions. However, please make sure that your\n",
        "TA can understand what you are doing and why."
      ]
    },
    {
      "cell_type": "code",
      "execution_count": null,
      "id": "9ee4f112",
      "metadata": {
        "id": "9ee4f112"
      },
      "outputs": [],
      "source": [
        "import matplotlib\n",
        "import numpy as np\n",
        "import matplotlib.pyplot as plt\n",
        "\n",
        "import torch\n",
        "import torch.nn as nn\n",
        "import torch.optim as optim\n",
        "from torchsummary import summary\n",
        "import torchvision.models, torchvision.datasets\n",
        "\n",
        "\n",
        "%matplotlib inline"
      ]
    },
    {
      "cell_type": "markdown",
      "id": "8142e9ae",
      "metadata": {
        "id": "8142e9ae"
      },
      "source": [
        "## Question 1. Data\n",
        "\n",
        "If you are using your own machine, download the data from the course website on Quercus.\n",
        "\n",
        "If you are using Google Colab, download the data set to your Google Drive by going to\n",
        "the link [https://drive.google.com/drive/folders/1aPL24P610NHLvt9exk6-B7SzGk3R8Q48?usp=sharing](https://drive.google.com/drive/folders/1aPL24P610NHLvt9exk6-B7SzGk3R8Q48?usp=sharing)\n",
        "and selecting \"Add to My Drive\".\n",
        "This is faster than downloading the data from the course website.\n",
        "\n",
        "Then, mount Google Drive from your Google Colab notebook:"
      ]
    },
    {
      "cell_type": "code",
      "execution_count": null,
      "id": "d7cad865",
      "metadata": {
        "colab": {
          "base_uri": "https://localhost:8080/"
        },
        "id": "d7cad865",
        "outputId": "6027d3f1-68db-48aa-f542-99e1fde7bf41"
      },
      "outputs": [
        {
          "output_type": "stream",
          "name": "stdout",
          "text": [
            "Mounted at /content/gdrive\n"
          ]
        }
      ],
      "source": [
        "from google.colab import drive\n",
        "drive.mount('/content/gdrive')"
      ]
    },
    {
      "cell_type": "markdown",
      "id": "c162b791",
      "metadata": {
        "id": "c162b791"
      },
      "source": [
        "The file structure we use is intentional,\n",
        "so that we can use `torchvision.datasets.ImageFolder`\n",
        "to help load our data and create labels."
      ]
    },
    {
      "cell_type": "code",
      "execution_count": null,
      "id": "3e09752e",
      "metadata": {
        "id": "3e09752e"
      },
      "outputs": [],
      "source": [
        "train_path = \"/content/gdrive/My Drive/CSC413/asl_data/train/\" # edit me\n",
        "valid_path = \"/content/gdrive/My Drive/CSC413/asl_data/valid/\" # edit me\n",
        "test_path = \"/content/gdrive/My Drive/CSC413/asl_data/test/\"   # edit me\n",
        "\n",
        "train_data = torchvision.datasets.ImageFolder(train_path, transform=torchvision.transforms.ToTensor())\n",
        "valid_data = torchvision.datasets.ImageFolder(valid_path, transform=torchvision.transforms.ToTensor())\n",
        "test_data = torchvision.datasets.ImageFolder(test_path, transform=torchvision.transforms.ToTensor())"
      ]
    },
    {
      "cell_type": "markdown",
      "id": "bdad0b1c",
      "metadata": {
        "id": "bdad0b1c"
      },
      "source": [
        "### Part (a) -- 2 pts\n",
        "\n",
        "Read up on what `torchvision.datasets.ImageFolder` does for us here\n",
        "[https://pytorch.org/vision/stable/datasets.html#torchvision.datasets.ImageFolder](https://pytorch.org/vision/stable/datasets.html#torchvision.datasets.ImageFolder)\n",
        "\n",
        "We can iterate through the one training data point at a time like this:"
      ]
    },
    {
      "cell_type": "code",
      "execution_count": null,
      "id": "c636230f",
      "metadata": {
        "colab": {
          "base_uri": "https://localhost:8080/"
        },
        "id": "c636230f",
        "outputId": "5cb44695-45d2-4aed-875e-d9b59362bed8"
      },
      "outputs": [
        {
          "output_type": "stream",
          "name": "stdout",
          "text": [
            "torch.Size([3, 224, 224])\n",
            "0\n"
          ]
        }
      ],
      "source": [
        "for x, y in train_data:\n",
        "    print(x.shape)\n",
        "    print(y)\n",
        "    break # uncomment if you'd like"
      ]
    },
    {
      "cell_type": "markdown",
      "id": "d3fa8a0d",
      "metadata": {
        "id": "d3fa8a0d"
      },
      "source": [
        "What do the variables `x` and `y` contain? What is the shape of our images?\n",
        "What are our labels? How did PyTorch generate these labels from the folder structure?\n",
        "\n",
        "Before answering this question, you will need to look at the folder structure\n",
        "and look at some images in the data set."
      ]
    },
    {
      "cell_type": "code",
      "execution_count": null,
      "id": "141ccbaf",
      "metadata": {
        "id": "141ccbaf"
      },
      "outputs": [],
      "source": [
        "# Your explanation goes here:\n",
        "# each x reperesents hte PyTorch tensor of a single image in the training set \n",
        "# each y is the respective label for the image"
      ]
    },
    {
      "cell_type": "markdown",
      "id": "389b9f32",
      "metadata": {
        "id": "389b9f32"
      },
      "source": [
        "### Part (b) -- 2 pts\n",
        "\n",
        "We saw in the earlier tutorials that PyTorch has a utility to help us\n",
        "create minibatches with our data. We can use the same DataLoader helper\n",
        "here:"
      ]
    },
    {
      "cell_type": "code",
      "execution_count": null,
      "id": "9ba95c07",
      "metadata": {
        "colab": {
          "base_uri": "https://localhost:8080/"
        },
        "id": "9ba95c07",
        "outputId": "3b96771d-3c31-4108-bf28-c1689b16ae3b"
      },
      "outputs": [
        {
          "output_type": "stream",
          "name": "stdout",
          "text": [
            "torch.Size([10, 3, 224, 224])\n",
            "tensor([5, 4, 2, 5, 0, 3, 0, 4, 0, 8])\n"
          ]
        }
      ],
      "source": [
        "train_loader = torch.utils.data.DataLoader(train_data, batch_size=10, shuffle=True)\n",
        "\n",
        "for x, y in train_loader:\n",
        "    print(x.shape)\n",
        "    print(y)\n",
        "    break # uncomment if you'd like"
      ]
    },
    {
      "cell_type": "markdown",
      "id": "dd21fbd3",
      "metadata": {
        "id": "dd21fbd3"
      },
      "source": [
        "What do the variables `x` and `y` contain? What are their shapes?\n",
        "What data do they contain?"
      ]
    },
    {
      "cell_type": "code",
      "execution_count": null,
      "id": "7eeb9d63",
      "metadata": {
        "id": "7eeb9d63"
      },
      "outputs": [],
      "source": [
        "# Your explanation goes here:\n",
        "# each x is a Pytorch tensor of batch size (in our case, 10) images of the same shape as earlier (3, 224, 224)\n",
        "# each y is a tensor with shape (batch size, 1) containing the respective label of each of the 10 images in the batch"
      ]
    },
    {
      "cell_type": "markdown",
      "id": "d7178c16",
      "metadata": {
        "id": "d7178c16"
      },
      "source": [
        "### Part (c) -- 1 pts\n",
        "\n",
        "How many images are there in the training, validation, and test sets?"
      ]
    },
    {
      "cell_type": "code",
      "execution_count": null,
      "id": "3ea889ee",
      "metadata": {
        "colab": {
          "base_uri": "https://localhost:8080/"
        },
        "id": "3ea889ee",
        "outputId": "dbd5da77-a61c-43b4-82d3-4a97cb8f15f1"
      },
      "outputs": [
        {
          "output_type": "stream",
          "name": "stdout",
          "text": [
            "Training set: 733 images\n",
            "validation set: 207 images\n",
            "test set: 223 images\n"
          ]
        }
      ],
      "source": [
        "# Your answer (and possibly code) goes here:\n",
        "\n",
        "print(\"Training set: {} images\".format(len(train_data)))\n",
        "print(\"validation set: {} images\".format(len(valid_data)))\n",
        "print(\"test set: {} images\".format(len(test_data)))"
      ]
    },
    {
      "cell_type": "markdown",
      "id": "2820c1f6",
      "metadata": {
        "id": "2820c1f6"
      },
      "source": [
        "### Part (d) -- 3 pts\n",
        "\n",
        "This dataset was generated by students in past machine learning courses, where\n",
        "each student took several photos of themselves demonstrating the ASL hand gestures.\n",
        "The file names of the images follow the following convention:\n",
        "`<student-identifier>_<letter>_<img-count>.jpg`\n",
        "\n",
        "When we split the data into training, validation, and test sets, we took care\n",
        "to put photos taken by the same person in the same data set. In other words, if one of the\n",
        "student's photo is in the training set, then other photos taken by the same student\n",
        "will also be placed in the training set.\n",
        "\n",
        "This way of separating the dataset into training, validation and test is more nuanced\n",
        "than simply randomly splitting the photos into training/validation/test.\n",
        "\n",
        "Explain why it is important to make sure that we split the photos into the\n",
        "three datasets **by student**, so that photos from the same student are always in the\n",
        "same set."
      ]
    },
    {
      "cell_type": "code",
      "execution_count": null,
      "id": "765da0fc",
      "metadata": {
        "id": "765da0fc"
      },
      "outputs": [],
      "source": [
        "# Your answer goes here:\n",
        "\n",
        "# The alternative to this is probably randomly splitting photos. This could result in one student's photos being in two or maybe even three folders\n",
        "# ... training, validation and test folders. If we try to train with training set and then optimize with validation, the model may try to learn\n",
        "# based on the characterstics of the student's hand and background of the photo and perform well on validation data with this since the same hand\n",
        "# and background will be in validation data as well. We want to make sure that the set of hands in the validation data has never been seen by the\n",
        "# model after training on the training set. The same goes for the test set.\n",
        "\n",
        "# Another worry would be the random chance of a student getting many more photos in a particular folder than another student. This is a particularly\n",
        "# big worry with such small batch sizes as an entire batch may contain only one student's photos and it feeds into the first problem I listed a\n",
        "# little bit as well, which is that the model may try to learn to identify that student's photos rather than the actual goal of identifying\n",
        "# ASL gestures."
      ]
    },
    {
      "cell_type": "markdown",
      "id": "87876459",
      "metadata": {
        "id": "87876459"
      },
      "source": [
        "## Question 2. Model Building\n",
        "\n",
        "#### Part (a) Convolutional Network - 5 pt\n",
        "\n",
        "Build a convolutional neural network model that takes the (224x224 RGB) image as input, and predicts\n",
        "the letter. Your model should be a subclass of `nn.Module`. \n",
        "You may want to review the Colab notebook demo from week 6 lectures. There is a small convolutional\n",
        "neural network included in the notebook.\n",
        "\n",
        "Here are some rules of thumb when determining your convolutional neural network architecture:\n",
        "\n",
        "- Nowadays, people prefer small kernel sizes (e.g. 3x3 or 5x5), with many convolutional layers\n",
        "  (we suggest 3-4 to start).\n",
        "- Use a downsampling operation after (or with) each convolution layer\n",
        "- In a typical convolutional neural network architectures, every time we downsample, we double the\n",
        "  number of features (channels). This is so that we don't lose too much information in each layer.\n",
        "  You may wish to make the number of output channels in your first convolutional layer a variable,\n",
        "  and double this value in every subsequent convolutions.\n",
        "- Typical CNNS will have a few (1-3) fully-connected layers as the final layers.\n",
        "\n",
        "Explain your choice of neural network architecture: how many layers did you choose?\n",
        "What types of layers did you use? Were they fully-connected or convolutional? What about other\n",
        "decisions like pooling layers, activation functions, number of channels / hidden units.\n",
        "\n",
        "Do not use dropout or batch normalization in this architecture."
      ]
    },
    {
      "cell_type": "code",
      "source": [
        "# Reasoning:\n",
        "# In lecture we learned that convolutional layers are used to extract lower level features like edges and outlines which is important for\n",
        "# image classification. As a result I start with conv layers, I chose three layers because I wanted to capture different levels of low level\n",
        "# features and maybe find more abstract patterns in the data, but did not want to overdo it due to small data set. I went with the above suggested\n",
        "# small kernel size of 3x3. The rule of thumb note above helped me choose ouput channel numbers. I start with 32 because it is a standard number\n",
        "# for image data around this size and double it twice.\n",
        "\n",
        "# Again following rule of thumb above I followed my convolution layers with a pooling layer to downsample and hopefully reduce overfitting chance\n",
        "# by reducing the dimension of our features. I picked my pooling layer to be (2, 2) following the kernel size and stride values from the week 4\n",
        "# conv_notebook example, again it fits our smaller data well I think.\n",
        "\n",
        "# I started with 1 fully connected layer at the end but was worried it would not capture enough of the feature pattern with our flattened output\n",
        "# from the previous layers so added another fully connected layer since this type of classification may be regarded as complex."
      ],
      "metadata": {
        "id": "npQGx5kflwaY"
      },
      "id": "npQGx5kflwaY",
      "execution_count": null,
      "outputs": []
    },
    {
      "cell_type": "code",
      "execution_count": null,
      "id": "9f5e3313",
      "metadata": {
        "id": "9f5e3313"
      },
      "outputs": [],
      "source": [
        "# Your code goes here:\n",
        "\n",
        "class ASLClassifier(nn.Module):\n",
        "    def __init__(self, num_classes=9):\n",
        "        super().__init__()\n",
        "        \n",
        "        # Convolutional layers\n",
        "        self.conv1 = nn.Conv2d(in_channels=3, out_channels=32,\n",
        "                               kernel_size=3, padding=1)\n",
        "        \n",
        "        self.conv2 = nn.Conv2d(in_channels=32, out_channels=64,\n",
        "                               kernel_size=3, padding=1)\n",
        "        \n",
        "        self.conv3 = nn.Conv2d(in_channels=64, out_channels=128,\n",
        "                               kernel_size=3, padding=1)\n",
        "        \n",
        "        # Pooling\n",
        "        self.pool = nn.MaxPool2d(2, 2)\n",
        "        \n",
        "        # Fully Connected \n",
        "        self.fc1 = nn.Linear(in_features=128 * 28 * 28, out_features=512)\n",
        "        self.fc2 = nn.Linear(in_features=512, out_features=num_classes)\n",
        "        \n",
        "        # RELU\n",
        "        self.activation = nn.ReLU()\n",
        "        \n",
        "    def forward(self, x):\n",
        "        x = self.activation(self.conv1(x))\n",
        "        x = self.pool(x)\n",
        "        x = self.activation(self.conv2(x))\n",
        "        x = self.pool(x)\n",
        "        x = self.activation(self.conv3(x))\n",
        "        x = self.pool(x)\n",
        "        x = x.view(-1, 128 * 28 * 28)\n",
        "        x = self.activation(self.fc1(x))\n",
        "        x = self.fc2(x)\n",
        "        return x"
      ]
    },
    {
      "cell_type": "markdown",
      "id": "3c0c71bf",
      "metadata": {
        "id": "3c0c71bf"
      },
      "source": [
        "#### Part (b) Convolutional Network with Batch Normalization - 3 pt\n",
        "\n",
        "Build a variation of your convolutional neural network from part (a), and \n",
        "add either at least one batch normalization *or* at least one dropout layer,\n",
        "but **not** both.\n",
        "You will need to read the PyTorch documentation to figure out how these layers\n",
        "function."
      ]
    },
    {
      "cell_type": "code",
      "source": [
        "# Exact same network as from part a but with a single dropout layer...\n",
        "# From Pytorch documentation:\n",
        "\n",
        "# During training, randomly zeroes some of the elements of the input tensor \n",
        "# with probability p using samples from a Bernoulli distribution. Each channel will be zeroed out independently on every forward call.\n",
        "# This has proven to be an effective technique for regularization and preventing the co-adaptation of neurons as described in the paper \n",
        "# Improving neural networks by preventing co-adaptation of feature detectors.\n",
        "\n",
        "# I went with a probability of 0.5 for the dropout following what was in the documentation ... this layer is inbetween the fully connected\n",
        "# layers to randomly drop units in this layer and force the second fully connected layer to learn more abstract features.\n",
        "# This accomplishes two things ideally, better feature learning and less overfitting"
      ],
      "metadata": {
        "id": "ssNFjLk-ogMF"
      },
      "id": "ssNFjLk-ogMF",
      "execution_count": null,
      "outputs": []
    },
    {
      "cell_type": "code",
      "execution_count": null,
      "id": "33dcebe8",
      "metadata": {
        "id": "33dcebe8"
      },
      "outputs": [],
      "source": [
        "# Your code goes here:\n",
        "\n",
        "class ASLClassifierDropout(nn.Module):\n",
        "    def __init__(self, num_classes=9):\n",
        "        super().__init__()\n",
        "        \n",
        "        # Convolutional layers\n",
        "        self.conv1 = nn.Conv2d(in_channels=3, out_channels=32,\n",
        "                               kernel_size=3, padding=1)\n",
        "        \n",
        "        self.conv2 = nn.Conv2d(in_channels=32, out_channels=64,\n",
        "                               kernel_size=3, padding=1)\n",
        "        \n",
        "        self.conv3 = nn.Conv2d(in_channels=64, out_channels=128,\n",
        "                               kernel_size=3, padding=1)\n",
        "        \n",
        "        # Pooling\n",
        "        self.pool = nn.MaxPool2d(kernel_size=2, stride=2)\n",
        "        \n",
        "        # Fully Connected \n",
        "        self.fc1 = nn.Linear(in_features=128 * 28 * 28, out_features=512)\n",
        "        self.fc2 = nn.Linear(in_features=512, out_features=num_classes)\n",
        "        \n",
        "        # Activation\n",
        "        self.activation = nn.ReLU()\n",
        "        \n",
        "        # Dropout\n",
        "        self.dropout = nn.Dropout(p=0.5)\n",
        "        \n",
        "    def forward(self, x):\n",
        "        x = self.activation(self.conv1(x))\n",
        "        x = self.pool(x)\n",
        "        x = self.activation(self.conv2(x))\n",
        "        x = self.pool(x)\n",
        "        x = self.activation(self.conv3(x))\n",
        "        x = self.pool(x)\n",
        "        x = x.view(-1, 128 * 28 * 28)\n",
        "        x = self.activation(self.fc1(x))\n",
        "        x = self.dropout(x)  # Add dropout layer here\n",
        "        x = self.fc2(x)\n",
        "        return x"
      ]
    },
    {
      "cell_type": "markdown",
      "id": "22553003",
      "metadata": {
        "id": "22553003"
      },
      "source": [
        "#### Part (c) Architecture Decision - 1 pt\n",
        "\n",
        "It does not make sense to add the batch normalization or dropout layer as\n",
        "your *final* layer. Explain why this is the case."
      ]
    },
    {
      "cell_type": "code",
      "execution_count": null,
      "id": "f2cbe4bb",
      "metadata": {
        "id": "f2cbe4bb"
      },
      "outputs": [],
      "source": [
        "# Your answer goes here:\n",
        "\n",
        "# Similar to the last part in my previous explanation, I think that the point of batch normalization or dropout is to throw some randomization\n",
        "# into the model BEFORE the final layer finalizes its features and this would help prevent overfitting / improve performance. If we let the model\n",
        "# learn everything and finalize the last layer AND THEN drop random units this would remove some of the nodes responsible for generating our output\n",
        "# and that would have a big negative impact on our prediction accuracy."
      ]
    },
    {
      "cell_type": "markdown",
      "id": "f9a1f2f0",
      "metadata": {
        "id": "f9a1f2f0"
      },
      "source": [
        "## Question 3. Training Code and Sanity Checking\n",
        "\n",
        "#### Part (a) Accuracy - 3 pt\n",
        "\n",
        "Compute the `get_accuracy` function, which computes the model accuracy across a dataset:"
      ]
    },
    {
      "cell_type": "code",
      "execution_count": null,
      "id": "a75d3e58",
      "metadata": {
        "id": "a75d3e58"
      },
      "outputs": [],
      "source": [
        "def get_accuracy(model, data):\n",
        "    # note: why should we use a larger batch size here?\n",
        "    loader = torch.utils.data.DataLoader(data, batch_size=256)\n",
        "\n",
        "    model.eval() # annotate model for evaluation (why do we need to do this?)\n",
        "\n",
        "    correct = 0\n",
        "    total = 0\n",
        "    for imgs, labels in loader:\n",
        "        # pass # TODO\n",
        "        preds = model(imgs)\n",
        "        predicted = torch.argmax(preds, dim=1)\n",
        "        total += labels.size(0)\n",
        "        correct += (predicted == labels).int().sum().item()\n",
        "\n",
        "\n",
        "    return correct / total # TODO: return the model accuracy"
      ]
    },
    {
      "cell_type": "markdown",
      "id": "5b1086b3",
      "metadata": {
        "id": "5b1086b3"
      },
      "source": [
        "#### Part (b) Training Code - 8 pt\n",
        "\n",
        "Write code to train your neural network given some training data. Your training code\n",
        "should make it easy to tweak hyperparameters. Make sure that you are checkpointing\n",
        "your models from time to time (the frequency is up to you). \n",
        "\n",
        "Here's what we will be looking for:\n",
        "\n",
        "- using the data loader to load the training data\n",
        "- using the correct choice of loss function and a reasonable optimizer\n",
        "- shuffling the training data at the start of each epoch\n",
        "- in each iteration, take `batch_size` samples from the data set\n",
        "- use the correct labels from the data set\n",
        "- computing the forward and backward passes\n",
        "- after every epoch, **checkpoint your model** (A1 had instructions and examples for how to do this)\n",
        "- after every epoch, report the accuracies for the training set and validation set\n",
        "- track the training curve information and **plot the training curve**\n",
        "- correctly handling edge cases (e.g. why might the last batch be smaller than the rest?)\n",
        "\n",
        "Don't forget the checkpointing step. You will need to load your model weights later."
      ]
    },
    {
      "cell_type": "code",
      "execution_count": null,
      "id": "8c92194f",
      "metadata": {
        "id": "8c92194f"
      },
      "outputs": [],
      "source": [
        "# Your code goes here\n",
        "\n",
        "# You can use this function header, but don't have to:\n",
        "\n",
        "# I am using the given function header with the addition of a checkpoint path\n",
        "def train(model, train_data, valid_data, batch_size=32, weight_decay=0.0,\n",
        "           learning_rate=0.001, num_epochs=7, checkpoint_path=None):\n",
        "     \n",
        "     # Following the steps above of what will be looked for in this code:\n",
        "     # using the data loader to load the training data\n",
        "     train_loader = torch.utils.data.DataLoader(train_data, batch_size=batch_size, shuffle=True)\n",
        "     valid_loader = torch.utils.data.DataLoader(valid_data, batch_size=batch_size)\n",
        "\n",
        "     # using the correct choice of loss function and a reasonable optimizer\n",
        "     # I will use CE loss because this is a multi-classification problem and\n",
        "     # we have only talked about Adam optimizer in lectures so far (for the most part)\n",
        "     criterion = nn.CrossEntropyLoss()\n",
        "     optimizer = optim.Adam(model.parameters(), lr=learning_rate, weight_decay=weight_decay)\n",
        "\n",
        "     # shuffling the training data at the start of each epoch \n",
        "     # this is done by setting shuffle to True in the train_loader\n",
        "\n",
        "     # Initialize our tracking lists\n",
        "     train_losses = []\n",
        "     valid_losses = []\n",
        "     train_accs = []\n",
        "     valid_accs = []\n",
        "     best_valid_acc = 0.0\n",
        "     for epoch in range(num_epochs):\n",
        "         model.train()\n",
        "         # reset this every epoch\n",
        "         total_loss = 0\n",
        "         num_correct = 0\n",
        "\n",
        "         # in each iteration, take batch_size samples from the data set\n",
        "         # we will do this here by iterating through our train_loader which is already\n",
        "         # set up with our batch_size\n",
        "         for imgs, labels in train_loader:\n",
        "            # reset our gradients every iteration of this\n",
        "            optimizer.zero_grad()\n",
        "\n",
        "            # computing the forward and backward passes\n",
        "            # forward pass:\n",
        "            preds = model(imgs)\n",
        "            # use the correct labels from the data set\n",
        "            loss = criterion(preds, labels)\n",
        "\n",
        "            # backward pass:\n",
        "            loss.backward()\n",
        "            optimizer.step()\n",
        "\n",
        "            # update loss and num_correct after the passes\n",
        "            # similar to method used in the accuracy function\n",
        "            total_loss += loss.item() * imgs.size(0)\n",
        "            f_preds = torch.argmax(preds.data, 1)\n",
        "            num_correct += (f_preds == labels).sum().item()\n",
        "\n",
        "         # calculate training loss and accuracy for each epoch and update lists\n",
        "         train_loss = loss / len(train_data)\n",
        "         train_acc = num_correct / len(train_data)\n",
        "         train_losses.append(train_loss)\n",
        "         train_accs.append(train_acc)\n",
        "         \n",
        "         model.eval()\n",
        "         # reset our variables and begin validation\n",
        "         total_loss = 0\n",
        "         num_correct = 0\n",
        "\n",
        "         for imgs, labels in valid_loader:\n",
        "           # forward pass\n",
        "           preds = model(imgs)\n",
        "           loss = criterion(preds, labels)\n",
        "\n",
        "           # update loss and num_correct after the pass\n",
        "           total_loss += loss.item() * imgs.size(0)\n",
        "           f_preds = torch.argmax(preds.data, 1)\n",
        "           num_correct += (f_preds == labels).sum().item()\n",
        "        \n",
        "         # calculate training loss and accuracy for each epoch and update lists\n",
        "         valid_loss = total_loss / len(valid_data)\n",
        "         valid_acc = num_correct / len(valid_data)\n",
        "         valid_losses.append(valid_loss)\n",
        "         valid_accs.append(valid_acc)\n",
        "\n",
        "\n",
        "         # after every epoch, report the accuracies for the training set and validation set\n",
        "         print(\"Epoch {}/{}   Train Acc: {:.4f}   Valid Acc: {:.4f}\\n\"\n",
        "              .format(epoch+1, num_epochs, train_acc, valid_acc))\n",
        "         \n",
        "         # after every epoch, checkpoint your model (A1 had instructions and examples for how to do this)\n",
        "         # this is mostly copied from the A1 code\n",
        "         if (checkpoint_path is not None):\n",
        "              # where ... checkpoint_path = '/content/gdrive/My Drive/CSC413/ASL_ckpts/ckpt-{}.pk'\n",
        "              torch.save(model.state_dict(), checkpoint_path.format(epoch+1))\n",
        "\n",
        "     # track the training curve information and plot the training curve\n",
        "     #plt.title(\"Learning Curve: Loss per Iteration\")\n",
        "     #plt.plot(train_losses, label=\"Train Loss\")\n",
        "     #plt.show()\n",
        "\n",
        "     plt.title(\"Learning Curve: Loss per Iteration\")\n",
        "     plt.plot(train_accs, label=\"Train Loss\")\n",
        "     plt.plot(valid_accs, label=\"Validation Loss\")\n",
        "     plt.xlabel(\"Iterations\")\n",
        "     plt.ylabel(\"Loss\")\n",
        "     plt.legend()\n",
        "     plt.show()\n",
        "     \n",
        "     return train_loss, valid_loss\n",
        "\n",
        "    # correctly handling edge cases (e.g. why might the last batch be smaller than the rest?)\n",
        "    # I am not exactly sure about the details of this but according to the DataLoader documentation\n",
        "    # https://mmcv.readthedocs.io/en/v1.5.2_a/_modules/torch/utils/data/dataloader.html\n",
        "    # The dataloader object automatically drops the last batch if the size is not a multiple of \n",
        "    # batch size ... so if it is incomplete.\n",
        "\n",
        "    \n",
        "    "
      ]
    },
    {
      "cell_type": "markdown",
      "id": "b412ede1",
      "metadata": {
        "id": "b412ede1"
      },
      "source": [
        "#### Part (c) Overfit to a Small Dataset - 2 pt\n",
        "\n",
        "One way to sanity check our neural network model and training code is to check whether \n",
        "each of your two models is capable of \"memorizing\" or \"overfitting\" to a small dataset. Construct\n",
        "a small dataset (e.g. 1-2 image per class). Then show that your model and training code\n",
        "is capable of overfitting on that small dataset. You should be able to obtain a 100% \n",
        "training accuracy on that small dataset relatively quickly (i.e. within a few hundred iterations,\n",
        "possibly more depending on your learning rate).\n",
        "\n",
        "This question is really here to make sure that your model/training code is correct.\n",
        "The question itself is not worth much, but your results here will diagnose issues\n",
        "from other parts of your code.\n",
        "If your models cannot overfit the small dataset quickly, then there is\n",
        "a bug in either your model code and/or your training code. Fix the issues\n",
        "before you proceed to the next step."
      ]
    },
    {
      "cell_type": "code",
      "execution_count": null,
      "id": "78d9f489",
      "metadata": {
        "colab": {
          "base_uri": "https://localhost:8080/",
          "height": 1000
        },
        "id": "78d9f489",
        "outputId": "02c1f37d-d852-4352-ddd4-6bea5449da11"
      },
      "outputs": [
        {
          "output_type": "stream",
          "name": "stdout",
          "text": [
            "Epoch 1/20   Train Acc: 0.0556   Valid Acc: 0.1111\n",
            "\n",
            "Epoch 2/20   Train Acc: 0.1111   Valid Acc: 0.1111\n",
            "\n",
            "Epoch 3/20   Train Acc: 0.1667   Valid Acc: 0.1667\n",
            "\n",
            "Epoch 4/20   Train Acc: 0.3333   Valid Acc: 0.1667\n",
            "\n",
            "Epoch 5/20   Train Acc: 0.3333   Valid Acc: 0.1111\n",
            "\n",
            "Epoch 6/20   Train Acc: 0.3889   Valid Acc: 0.1111\n",
            "\n",
            "Epoch 7/20   Train Acc: 0.5556   Valid Acc: 0.2778\n",
            "\n",
            "Epoch 8/20   Train Acc: 0.6111   Valid Acc: 0.1667\n",
            "\n",
            "Epoch 9/20   Train Acc: 0.5556   Valid Acc: 0.1667\n",
            "\n",
            "Epoch 10/20   Train Acc: 0.5000   Valid Acc: 0.2222\n",
            "\n",
            "Epoch 11/20   Train Acc: 0.6111   Valid Acc: 0.1667\n",
            "\n",
            "Epoch 12/20   Train Acc: 0.5556   Valid Acc: 0.1667\n",
            "\n",
            "Epoch 13/20   Train Acc: 0.5000   Valid Acc: 0.1667\n",
            "\n",
            "Epoch 14/20   Train Acc: 0.5000   Valid Acc: 0.1111\n",
            "\n",
            "Epoch 15/20   Train Acc: 0.6667   Valid Acc: 0.2778\n",
            "\n",
            "Epoch 16/20   Train Acc: 0.6111   Valid Acc: 0.1667\n",
            "\n",
            "Epoch 17/20   Train Acc: 0.7222   Valid Acc: 0.3333\n",
            "\n",
            "Epoch 18/20   Train Acc: 0.6111   Valid Acc: 0.2222\n",
            "\n",
            "Epoch 19/20   Train Acc: 0.6111   Valid Acc: 0.2222\n",
            "\n",
            "Epoch 20/20   Train Acc: 0.6667   Valid Acc: 0.2778\n",
            "\n"
          ]
        },
        {
          "output_type": "display_data",
          "data": {
            "text/plain": [
              "<Figure size 432x288 with 1 Axes>"
            ],
            "image/png": "[encoded data removed]"
          },
          "metadata": {
            "needs_background": "light"
          }
        },
        {
          "output_type": "execute_result",
          "data": {
            "text/plain": [
              "(tensor(0.1189, grad_fn=<DivBackward0>), 2.1290982564290366)"
            ]
          },
          "metadata": {},
          "execution_count": 20
        }
      ],
      "source": [
        "# Your code goes here:\n",
        "# I could not find the right hyperparameters for the small dataset\n",
        "\n",
        "small_train_path = \"/content/gdrive/My Drive/CSC413/asl_small/train/\"\n",
        "small_valid_path = \"/content/gdrive/My Drive/CSC413/asl_small/valid/\"\n",
        "\n",
        "small_train_data = torchvision.datasets.ImageFolder(small_train_path, transform=torchvision.transforms.ToTensor())\n",
        "small_valid_data = torchvision.datasets.ImageFolder(small_valid_path, transform=torchvision.transforms.ToTensor())\n",
        "\n",
        "model = ASLClassifier(num_classes=9)\n",
        "\n",
        "train(model, small_train_data, small_valid_data, learning_rate=0.00001, batch_size=2, num_epochs=20)"
      ]
    },
    {
      "cell_type": "markdown",
      "id": "f1f1450b",
      "metadata": {
        "id": "f1f1450b"
      },
      "source": [
        "## Question 4. Training\n",
        "\n",
        "### Part (a) -- 5 points\n",
        "\n",
        "Train your first network on your training set.\n",
        "Plot the training curve, and include your plot in your writeup.\n",
        "\n",
        "Make sure that you are checkpointing frequently!"
      ]
    },
    {
      "cell_type": "code",
      "execution_count": null,
      "id": "f7b87e02",
      "metadata": {
        "colab": {
          "base_uri": "https://localhost:8080/",
          "height": 664
        },
        "id": "f7b87e02",
        "outputId": "00a4fd38-b6c3-4195-c698-813a987edd37"
      },
      "outputs": [
        {
          "output_type": "stream",
          "name": "stdout",
          "text": [
            "Epoch 1/10   Train Acc: 0.1228   Valid Acc: 0.2126\n",
            "\n",
            "Epoch 2/10   Train Acc: 0.2960   Valid Acc: 0.6184\n",
            "\n",
            "Epoch 3/10   Train Acc: 0.5757   Valid Acc: 0.6715\n",
            "\n",
            "Epoch 4/10   Train Acc: 0.7408   Valid Acc: 0.7488\n",
            "\n",
            "Epoch 5/10   Train Acc: 0.8145   Valid Acc: 0.6957\n",
            "\n",
            "Epoch 6/10   Train Acc: 0.8540   Valid Acc: 0.7536\n",
            "\n",
            "Epoch 7/10   Train Acc: 0.8827   Valid Acc: 0.7391\n",
            "\n",
            "Epoch 8/10   Train Acc: 0.8909   Valid Acc: 0.8068\n",
            "\n",
            "Epoch 9/10   Train Acc: 0.9345   Valid Acc: 0.8068\n",
            "\n",
            "Epoch 10/10   Train Acc: 0.9427   Valid Acc: 0.8164\n",
            "\n"
          ]
        },
        {
          "output_type": "display_data",
          "data": {
            "text/plain": [
              "<Figure size 432x288 with 1 Axes>"
            ],
            "image/png": "[encoded data removed]"
          },
          "metadata": {
            "needs_background": "light"
          }
        }
      ],
      "source": [
        "# Your code goes here. Make sure to include the training curve.\n",
        "\n",
        "model = ASLClassifier()\n",
        "batch_size = 32\n",
        "weight_decay = 0.001\n",
        "learning_rate = 0.001\n",
        "num_epochs = 10\n",
        "\n",
        "train_loss, valid_loss = train(model, train_data, valid_data, batch_size=batch_size, weight_decay=weight_decay,\n",
        "                               learning_rate=learning_rate, num_epochs=num_epochs, checkpoint_path='/content/gdrive/My Drive/CSC413/ASL_ckpts/ckpt-{}.pk')"
      ]
    },
    {
      "cell_type": "markdown",
      "id": "ab200e7f",
      "metadata": {
        "id": "ab200e7f"
      },
      "source": [
        "### Part (b) -- 2 points\n",
        "\n",
        "You should have tried several hyperparameter choices before deciding on one set\n",
        "of hyperparameters to use for Part (a).\n",
        "In this section, briefly explain the hyperparamter choices that you tried, \n",
        "and how they impacted your training."
      ]
    },
    {
      "cell_type": "code",
      "execution_count": null,
      "id": "4800caf4",
      "metadata": {
        "id": "4800caf4"
      },
      "outputs": [],
      "source": [
        "# Your explanation goes here:\n",
        "# After running this and traning a few times these are the hyperparameters that worked:\n",
        "\n",
        "# Learning Rate: Tested rates between 0.0001 to 0.1 and 0.001 gave me the best results for the combination\n",
        "# of traning and validation accuracy\n",
        "\n",
        "# Batch Size: I tried a smaller batch size of 8 but it was taking a longer time and gradient seemed to be jumping\n",
        "# around a bit more so I stuck with 32, did not want to go higher with a smaller dataset.\n",
        "\n",
        "# epochs: Accuracy started jumping around a bit at around 10 epochs so I stuck to 10, I did not get much improvement after that\n",
        "\n",
        "# Weight decay: I played around with ranges between 0.01 all the way to 0, many gave similar results but 0.001\n",
        "# was one of the best."
      ]
    },
    {
      "cell_type": "markdown",
      "id": "18ed210a",
      "metadata": {
        "id": "18ed210a"
      },
      "source": [
        "### Part (c) -- 5 points\n",
        "\n",
        "Train your second network on your training set.\n",
        "Plot the training curve, and include your plot in your writeup.\n",
        "\n",
        "Make sure that you are checkpointing frequently!"
      ]
    },
    {
      "cell_type": "code",
      "execution_count": null,
      "id": "cb4e16ca",
      "metadata": {
        "colab": {
          "base_uri": "https://localhost:8080/",
          "height": 849
        },
        "id": "cb4e16ca",
        "outputId": "8de04e23-897b-4fc5-b1f6-3342c6042217"
      },
      "outputs": [
        {
          "output_type": "stream",
          "name": "stdout",
          "text": [
            "Epoch 1/15   Train Acc: 0.1241   Valid Acc: 0.2705\n",
            "\n",
            "Epoch 2/15   Train Acc: 0.3397   Valid Acc: 0.5749\n",
            "\n",
            "Epoch 3/15   Train Acc: 0.5593   Valid Acc: 0.6763\n",
            "\n",
            "Epoch 4/15   Train Acc: 0.7053   Valid Acc: 0.6908\n",
            "\n",
            "Epoch 5/15   Train Acc: 0.7531   Valid Acc: 0.7440\n",
            "\n",
            "Epoch 6/15   Train Acc: 0.7913   Valid Acc: 0.7343\n",
            "\n",
            "Epoch 7/15   Train Acc: 0.8240   Valid Acc: 0.7633\n",
            "\n",
            "Epoch 8/15   Train Acc: 0.8581   Valid Acc: 0.7488\n",
            "\n",
            "Epoch 9/15   Train Acc: 0.8499   Valid Acc: 0.7391\n",
            "\n",
            "Epoch 10/15   Train Acc: 0.8649   Valid Acc: 0.7729\n",
            "\n",
            "Epoch 11/15   Train Acc: 0.9195   Valid Acc: 0.7874\n",
            "\n",
            "Epoch 12/15   Train Acc: 0.9291   Valid Acc: 0.7874\n",
            "\n",
            "Epoch 13/15   Train Acc: 0.9263   Valid Acc: 0.7778\n",
            "\n",
            "Epoch 14/15   Train Acc: 0.9209   Valid Acc: 0.7778\n",
            "\n",
            "Epoch 15/15   Train Acc: 0.9318   Valid Acc: 0.8019\n",
            "\n"
          ]
        },
        {
          "output_type": "display_data",
          "data": {
            "text/plain": [
              "<Figure size 432x288 with 1 Axes>"
            ],
            "image/png": "[encoded data removed]"
          },
          "metadata": {
            "needs_background": "light"
          }
        }
      ],
      "source": [
        "# Your code goes here. Make sure to include the training curve.\n",
        "\n",
        "model = ASLClassifierDropout()\n",
        "batch_size = 32\n",
        "weight_decay = 0.001\n",
        "learning_rate = 0.001\n",
        "num_epochs = 15\n",
        "\n",
        "train_loss, valid_loss = train(model, train_data, valid_data, batch_size=batch_size, weight_decay=weight_decay,\n",
        "                               learning_rate=learning_rate, num_epochs=num_epochs, checkpoint_path='/content/gdrive/My Drive/CSC413/ASL_ckpts/DOckpt-{}.pk')"
      ]
    },
    {
      "cell_type": "markdown",
      "id": "601c7b10",
      "metadata": {
        "id": "601c7b10"
      },
      "source": [
        "### Part (d) -- 2 points\n",
        "\n",
        "You should have tried several hyperparameter choices before deciding on one set\n",
        "of hyperparameters to use for Part (c).\n",
        "In this section, briefly explain the hyperparamter choices that you tried, \n",
        "and how they impacted your training."
      ]
    },
    {
      "cell_type": "code",
      "execution_count": null,
      "id": "5c0ada58",
      "metadata": {
        "id": "5c0ada58"
      },
      "outputs": [],
      "source": [
        "# Your explanation goes here:\n",
        "# I played around a bit but ended up with the exact same approach as the last model. when I tried using the\n",
        "# same values I actually got the best results, probably because the models are very similar just with the addition\n",
        "# of dropout .... where the default recommended value of 0.5 worked best for the model.\n",
        "# The only other thing that changed was number of epochs\n",
        "\n",
        "# Your explanation goes here:\n",
        "# After running this and traning a few times these are the hyperparameters that worked:\n",
        "\n",
        "# Learning Rate: Tested rates between 0.0001 to 0.1 and 0.001 gave me the best results for the combination\n",
        "# of traning and validation accuracy\n",
        "\n",
        "# Batch Size: I tried a smaller batch size of 8 but it was taking a longer time and gradient seemed to be jumping\n",
        "# around a bit more so I stuck with 32, did not want to go higher with a smaller dataset.\n",
        "\n",
        "# epochs: I got diminishing returns after around 15 and less than that it was not finished optimizing\n",
        "\n",
        "# Weight decay: I played around with ranges between 0.01 all the way to 0, many gave similar results but 0.001\n",
        "# was one of the best."
      ]
    },
    {
      "cell_type": "markdown",
      "id": "db48092f",
      "metadata": {
        "id": "db48092f"
      },
      "source": [
        "### Part (e) -- 1 pts\n",
        "\n",
        "Out of all the models (i.e. parts (a) vs (c), and the various hyperparameter choices)\n",
        "that you tried, which model is the \"best\"?\n",
        "If you were to select a single set of weight values (checkpoints)\n",
        "to deploy and use in a real application, which would you choose?"
      ]
    },
    {
      "cell_type": "code",
      "execution_count": null,
      "id": "2a2c92a0",
      "metadata": {
        "id": "2a2c92a0",
        "colab": {
          "base_uri": "https://localhost:8080/"
        },
        "outputId": "bdffc4fa-0fcd-4f1f-dae7-281d6bf319e2"
      },
      "outputs": [
        {
          "output_type": "stream",
          "name": "stdout",
          "text": [
            "----------------------------------------------------------------\n",
            "        Layer (type)               Output Shape         Param #\n",
            "================================================================\n",
            "            Conv2d-1         [-1, 32, 224, 224]             896\n",
            "              ReLU-2         [-1, 32, 224, 224]               0\n",
            "         MaxPool2d-3         [-1, 32, 112, 112]               0\n",
            "            Conv2d-4         [-1, 64, 112, 112]          18,496\n",
            "              ReLU-5         [-1, 64, 112, 112]               0\n",
            "         MaxPool2d-6           [-1, 64, 56, 56]               0\n",
            "            Conv2d-7          [-1, 128, 56, 56]          73,856\n",
            "              ReLU-8          [-1, 128, 56, 56]               0\n",
            "         MaxPool2d-9          [-1, 128, 28, 28]               0\n",
            "           Linear-10                  [-1, 512]      51,380,736\n",
            "             ReLU-11                  [-1, 512]               0\n",
            "          Dropout-12                  [-1, 512]               0\n",
            "           Linear-13                    [-1, 9]           4,617\n",
            "================================================================\n",
            "Total params: 51,478,601\n",
            "Trainable params: 51,478,601\n",
            "Non-trainable params: 0\n",
            "----------------------------------------------------------------\n",
            "Input size (MB): 0.57\n",
            "Forward/backward pass size (MB): 48.25\n",
            "Params size (MB): 196.38\n",
            "Estimated Total Size (MB): 245.20\n",
            "----------------------------------------------------------------\n"
          ]
        }
      ],
      "source": [
        "# Your explanation goes here:\n",
        "\n",
        "# So far my best results came from the last epoch of my dropout model both for training and validation\n",
        "# accuracy so that is the checkpoint I would deploy at this point. Below I will outline a summary of this\n",
        "# model and its weights using the summary method from the torch documentation:\n",
        "# Documentation ---> https://pypi.org/project/torch-summary/\n",
        "\n",
        "partE = ASLClassifierDropout()\n",
        "partE.load_state_dict(torch.load('/content/gdrive/My Drive/CSC413/ASL_ckpts/DOckpt-15.pk'))\n",
        "summary(partE, input_size=(3, 224, 224))"
      ]
    },
    {
      "cell_type": "markdown",
      "id": "7d23c0d5",
      "metadata": {
        "id": "7d23c0d5"
      },
      "source": [
        "## Question 5. Transfer Learning\n",
        "\n",
        "For many image classification tasks, it is generally not a good idea to train a\n",
        "very large deep neural network model from scratch due to the enormous compute\n",
        "requirements and lack of sufficient amounts of training data.\n",
        "\n",
        "One of the better options is to try using an existing model that performs a\n",
        "similar task to the one you need to solve. This method of using a\n",
        "pre-trained network for other similar tasks is broadly termed\n",
        "**Transfer Learning**. In this question, we will use Transfer Learning\n",
        "to extract features from the hand gesture images. Then, train a smaller\n",
        "network to use these features as input and classify the hand gestures.\n",
        "\n",
        "As you have learned from the CNN lecture, the AlexNet architecture played a pivotal role in\n",
        "establishing Deep Neural Nets as a go-to tool for image classification\n",
        "problems and we will use an ImageNet pre-trained AlexNet model to\n",
        "extract features in this assignment.\n",
        "\n",
        "### Part (a)\n",
        "\n",
        "Here is the code to load the AlexNet network, with pretrained weights.\n",
        "When you first run the code, PyTorch will download the pretrained weights\n",
        "from the internet."
      ]
    },
    {
      "cell_type": "code",
      "execution_count": null,
      "id": "7149c916",
      "metadata": {
        "id": "7149c916",
        "colab": {
          "base_uri": "https://localhost:8080/",
          "height": 161,
          "referenced_widgets": [
            "536cf56e5f6f4d44ae4cc02757a0bf91",
            "780bfb3943df42c386aa130d9574cd9d",
            "9fd7219d1f86433c9330709cf3bc79e8",
            "3baaa222c9904afc9dca04ed92735f65",
            "be85720a4eeb445d9361e67c8477e9cd",
            "ce159a93b6824050b2acc9341dc111e1",
            "1919f0e70ae546b6893b2a8ddf821c19",
            "722a6956577f4752aba0bbe0b8a3a15e",
            "3f2a9f02e9d541aea741b5ba4fcccc1f",
            "3efad20432f24a85a74f0791119782c4",
            "5ef3ddc9e7144b2685db73fa6807bd74"
          ]
        },
        "outputId": "5c489df9-0997-44a2-f5a6-1141060b86ae"
      },
      "outputs": [
        {
          "output_type": "stream",
          "name": "stderr",
          "text": [
            "/usr/local/lib/python3.9/dist-packages/torchvision/models/_utils.py:208: UserWarning: The parameter 'pretrained' is deprecated since 0.13 and may be removed in the future, please use 'weights' instead.\n",
            "  warnings.warn(\n",
            "/usr/local/lib/python3.9/dist-packages/torchvision/models/_utils.py:223: UserWarning: Arguments other than a weight enum or `None` for 'weights' are deprecated since 0.13 and may be removed in the future. The current behavior is equivalent to passing `weights=AlexNet_Weights.IMAGENET1K_V1`. You can also use `weights=AlexNet_Weights.DEFAULT` to get the most up-to-date weights.\n",
            "  warnings.warn(msg)\n",
            "Downloading: \"https://download.pytorch.org/models/alexnet-owt-7be5be79.pth\" to /root/.cache/torch/hub/checkpoints/alexnet-owt-7be5be79.pth\n"
          ]
        },
        {
          "output_type": "display_data",
          "data": {
            "text/plain": [
              "  0%|          | 0.00/233M [00:00<?, ?B/s]"
            ],
            "application/vnd.jupyter.widget-view+json": {
              "version_major": 2,
              "version_minor": 0,
              "model_id": "536cf56e5f6f4d44ae4cc02757a0bf91"
            }
          },
          "metadata": {}
        }
      ],
      "source": [
        "import torchvision.models\n",
        "alexnet = torchvision.models.alexnet(pretrained=True)"
      ]
    },
    {
      "cell_type": "markdown",
      "id": "065fe73c",
      "metadata": {
        "id": "065fe73c"
      },
      "source": [
        "The `alexnet` model is split up into two components: `alexnet.features` and \n",
        "`alexnet.classifier`.  The first neural network component, `alexnet.features`,\n",
        "is used to\n",
        "computed convolutional features, which is taken as input in `alexnet.classifier`.\n",
        "\n",
        "The neural network `alexnet.features` expects an image tensor of shape\n",
        "Nx3x224x224 as inputs and it will output a tensor of shape Nx256x6x6 . (N = batch size).\n",
        "\n",
        "Here is an example code snippet showing how you can compute the AlexNet\n",
        "features for some images (your actual code might be different):"
      ]
    },
    {
      "cell_type": "code",
      "execution_count": null,
      "id": "a88552ec",
      "metadata": {
        "id": "a88552ec"
      },
      "outputs": [],
      "source": [
        "img, label = train_data[0]\n",
        "features = alexnet.features(img.unsqueeze(0)).detach()"
      ]
    },
    {
      "cell_type": "markdown",
      "id": "b57ef387",
      "metadata": {
        "id": "b57ef387"
      },
      "source": [
        "Note that the `.detach()` at the end will be necessary in your code. The reason is that\n",
        "PyTorch automatically builds computation graphs to be able to backpropagate\n",
        "gradients. If we did not explicitly \"detach\" this tensor from the AlexNet portion\n",
        "of the computation graph, PyTorch might try to backpropagate gradients to the AlexNet\n",
        "weight and tune the AlexNet weights.\n",
        "\n",
        "Compute the AlexNet features for each of your training, validation, and test data.\n",
        "In other words, create three new arrays called `train_data_features`, `valid_data_features`\n",
        "and `test_data_features`. Each of these arrays should contain tuples of the form \n",
        "`(alexnet_features, label)`"
      ]
    },
    {
      "cell_type": "code",
      "execution_count": null,
      "id": "b4cfacd7",
      "metadata": {
        "id": "b4cfacd7"
      },
      "outputs": [],
      "source": [
        "# Modify this code\n",
        "\n",
        "train_data_features = []\n",
        "for img, y in train_data:\n",
        "    features = alexnet.features(img.unsqueeze(0)).detach()\n",
        "    train_data_features.append((features, y))\n",
        "\n",
        "valid_data_features = []\n",
        "for img, y in valid_data:\n",
        "    features = alexnet.features(img.unsqueeze(0)).detach()\n",
        "    valid_data_features.append((features, y))\n",
        "\n",
        "test_data_features = []\n",
        "for img, y in test_data:\n",
        "    features = alexnet.features(img.unsqueeze(0)).detach()\n",
        "    test_data_features.append((features, y))"
      ]
    },
    {
      "cell_type": "markdown",
      "id": "57fa0a37",
      "metadata": {
        "id": "57fa0a37"
      },
      "source": [
        "### Part (b)\n",
        "\n",
        "\n",
        "Create a multi-layer preceptron that\n",
        "takes **as input** these AlexNet features,\n",
        "and makes a prediction. Your model should be a subclass of `nn.Module`."
      ]
    },
    {
      "cell_type": "code",
      "execution_count": null,
      "id": "829a583b",
      "metadata": {
        "id": "829a583b"
      },
      "outputs": [],
      "source": [
        "class MLP(nn.Module):\n",
        "    def __init__(self):\n",
        "        super(MLP, self).__init__()\n",
        "        self.fc1 = nn.Linear(256 * 6 * 6, 128)\n",
        "        self.relu = nn.ReLU()\n",
        "        self.fc2 = nn.Linear(128, 64)\n",
        "        self.relu = nn.ReLU()\n",
        "        self.fc3 = nn.Linear(64, 10)\n",
        "\n",
        "    def forward(self, x):\n",
        "        x = x.view(-1, 256 * 6 * 6)\n",
        "        x = self.fc1(x)\n",
        "        x = self.relu(x)\n",
        "        x = self.fc2(x)\n",
        "        x = self.relu(x)\n",
        "        x = self.fc3(x)\n",
        "        return x"
      ]
    },
    {
      "cell_type": "markdown",
      "id": "61d5ccf0",
      "metadata": {
        "id": "61d5ccf0"
      },
      "source": [
        "### Part (c)\n",
        "\n",
        "Train the `MLP()` model for at least 6 epochs, and report\n",
        "on the maximum validation accuracy that you can attain.\n",
        "\n",
        "This model should train *much* faster since it has very few parameters.\n",
        "However, this model should attain much better accuracy much faster!"
      ]
    },
    {
      "cell_type": "code",
      "execution_count": null,
      "id": "88a864a3",
      "metadata": {
        "id": "88a864a3",
        "colab": {
          "base_uri": "https://localhost:8080/",
          "height": 516
        },
        "outputId": "87cbe0d9-f49f-420e-e7d4-5c7aea825e46"
      },
      "outputs": [
        {
          "output_type": "stream",
          "name": "stdout",
          "text": [
            "Epoch 1/6   Train Acc: 0.6453   Valid Acc: 0.8502\n",
            "\n",
            "Epoch 2/6   Train Acc: 0.9659   Valid Acc: 0.9179\n",
            "\n",
            "Epoch 3/6   Train Acc: 0.9905   Valid Acc: 0.9275\n",
            "\n",
            "Epoch 4/6   Train Acc: 0.9986   Valid Acc: 0.9324\n",
            "\n",
            "Epoch 5/6   Train Acc: 1.0000   Valid Acc: 0.9420\n",
            "\n",
            "Epoch 6/6   Train Acc: 1.0000   Valid Acc: 0.9565\n",
            "\n"
          ]
        },
        {
          "output_type": "display_data",
          "data": {
            "text/plain": [
              "<Figure size 432x288 with 1 Axes>"
            ],
            "image/png": "[encoded data removed]"
          },
          "metadata": {
            "needs_background": "light"
          }
        }
      ],
      "source": [
        "mlp = MLP()\n",
        "train_losses, valid_losses = train(mlp, train_data_features, valid_data_features, num_epochs=6)"
      ]
    },
    {
      "cell_type": "code",
      "source": [
        "# Max Validation accuracy of 95.65%"
      ],
      "metadata": {
        "id": "k69QLHR8XkPC"
      },
      "id": "k69QLHR8XkPC",
      "execution_count": null,
      "outputs": []
    },
    {
      "cell_type": "markdown",
      "id": "49eb5499",
      "metadata": {
        "id": "49eb5499"
      },
      "source": [
        "## Question 6. Test Accuracy\n",
        "\n",
        "### Part (a) -- 5 pts\n",
        "\n",
        "Report the test accuracies of your **single best** model for the test set, including\n",
        "any model that you trained (including in Q5)."
      ]
    },
    {
      "cell_type": "code",
      "execution_count": null,
      "id": "dbd7138e",
      "metadata": {
        "id": "dbd7138e",
        "colab": {
          "base_uri": "https://localhost:8080/"
        },
        "outputId": "ca990626-bf54-4898-937d-03099334db44"
      },
      "outputs": [
        {
          "output_type": "stream",
          "name": "stdout",
          "text": [
            "Test Accuracy: 0.8072\n"
          ]
        }
      ],
      "source": [
        "# Write your code here. Make sure to include the test accuracy in your report\n",
        "test_acc = get_accuracy(mlp, test_data_features)\n",
        "print(\"Test Accuracy: {:.4f}\".format(test_acc))"
      ]
    },
    {
      "cell_type": "markdown",
      "id": "6ebbdd61",
      "metadata": {
        "id": "6ebbdd61"
      },
      "source": [
        "### Part (b) -- 1 pts\n",
        "\n",
        "Display one image that your model correctly classified."
      ]
    },
    {
      "cell_type": "code",
      "execution_count": null,
      "id": "af9d79a4",
      "metadata": {
        "id": "af9d79a4",
        "colab": {
          "base_uri": "https://localhost:8080/",
          "height": 324
        },
        "outputId": "11cbfbf3-7b66-4cc6-d677-4c827592919e"
      },
      "outputs": [
        {
          "output_type": "stream",
          "name": "stdout",
          "text": [
            "tensor([True])\n",
            "Our model predicted: 5\n",
            "Actual label is: 5\n"
          ]
        },
        {
          "output_type": "display_data",
          "data": {
            "text/plain": [
              "<Figure size 432x288 with 1 Axes>"
            ],
            "image/png": "[encoded data removed]"
          },
          "metadata": {
            "needs_background": "light"
          }
        }
      ],
      "source": [
        "# Make sure both your code and image are visible to the TA\n",
        "image, label = test_data[129]\n",
        "\n",
        "features = alexnet.features(image.unsqueeze(0)).detach()\n",
        "output = mlp(features)\n",
        "pred = torch.argmax(output, dim=1)\n",
        "\n",
        "print(pred == label)\n",
        "print (\"Our model predicted: {}\".format(pred[0]))\n",
        "print(\"Actual label is: {}\".format(label))\n",
        "\n",
        "plt.imshow(image.permute(1, 2, 0));"
      ]
    },
    {
      "cell_type": "markdown",
      "id": "089067d0",
      "metadata": {
        "id": "089067d0"
      },
      "source": [
        "### Part (b) -- 1 pts\n",
        "\n",
        "Display one image that your model incorrectly classified. (If your test performance was 100%, please just say so.)"
      ]
    },
    {
      "cell_type": "code",
      "execution_count": null,
      "id": "94be6d10",
      "metadata": {
        "id": "94be6d10",
        "colab": {
          "base_uri": "https://localhost:8080/",
          "height": 324
        },
        "outputId": "7a4e060c-35ba-4134-a58d-87200830692b"
      },
      "outputs": [
        {
          "output_type": "stream",
          "name": "stdout",
          "text": [
            "tensor([False])\n",
            "Our model predicted: 6\n",
            "Actual label is: 0\n"
          ]
        },
        {
          "output_type": "display_data",
          "data": {
            "text/plain": [
              "<Figure size 432x288 with 1 Axes>"
            ],
            "image/png": "[encoded data removed]"
          },
          "metadata": {
            "needs_background": "light"
          }
        }
      ],
      "source": [
        "# Make sure both your code and image are visible to the TA\n",
        "image, label = test_data[12]\n",
        "\n",
        "features = alexnet.features(image.unsqueeze(0)).detach()\n",
        "output = mlp(features)\n",
        "pred = torch.argmax(output, dim=1)\n",
        "\n",
        "print(pred == label)\n",
        "print (\"Our model predicted: {}\".format(pred[0]))\n",
        "print(\"Actual label is: {}\".format(label))\n",
        "\n",
        "plt.imshow(image.permute(1, 2, 0));"
      ]
    },
    {
      "cell_type": "markdown",
      "id": "28f7a62a",
      "metadata": {
        "id": "28f7a62a"
      },
      "source": [
        "## Question 6. Adversarial Examples -- 2 pts\n",
        "\n",
        "In this question you will take the trained model you selected in Q4 (e),\n",
        "and you will freeze its weights (i.e. do not optimize it further). Let's call this model $f()$.\n",
        "Select an image (let's call it $x$) from the test set, where $f(x)$ outputs the correct label $y$.\n",
        "Then, compute an adversarial noise image (let's call it $n$) that you will add to $x$ in order to change\n",
        "the original label to an incorrect one, i.e. $f(x + n) \\neq f(x)$, while keeping the value of the noise\n",
        "pixels small, i.e. $|n_{i,j}| < \\epsilon$. You have control over $\\epsilon$, but keep in mind that the\n",
        "noise should be imperceptible to the human eye when not zooming into the image."
      ]
    },
    {
      "cell_type": "code",
      "execution_count": null,
      "id": "6e3a9218",
      "metadata": {
        "id": "6e3a9218",
        "colab": {
          "base_uri": "https://localhost:8080/"
        },
        "outputId": "29f62ac6-3c98-4d56-8566-a4bc8d28be6b"
      },
      "outputs": [
        {
          "output_type": "stream",
          "name": "stdout",
          "text": [
            "tensor([True])\n"
          ]
        }
      ],
      "source": [
        "#\n",
        "# Make sure your code, original image x, and the corrupted image x + n are shown to the TA\n",
        "# Show the output f(x) = y and the output f(x + n) is different than y.\n",
        "#\n",
        "\n",
        "f = ASLClassifierDropout()\n",
        "f.load_state_dict(torch.load('/content/gdrive/My Drive/CSC413/ASL_ckpts/DOckpt-15.pk'))\n",
        "\n",
        "x, y = test_data[20]\n",
        "\n",
        "f_x = f(x)\n",
        "f_x = torch.argmax(f_x, dim=1)\n",
        "\n",
        "print(f_x == y)"
      ]
    },
    {
      "cell_type": "code",
      "source": [
        "# Im not sure how to approach this at the moment"
      ],
      "metadata": {
        "id": "KYOOB_7khPeY"
      },
      "id": "KYOOB_7khPeY",
      "execution_count": null,
      "outputs": []
    },
    {
      "cell_type": "markdown",
      "id": "994ce1b7",
      "metadata": {
        "id": "994ce1b7"
      },
      "source": [
        "## Question 7. Work Allocation -- 1 pts\n",
        "\n",
        "This question is to make sure that if you are working with a partner, that\n",
        "you and your partner contributed equally to the assignment.\n",
        "\n",
        "Please have each team member write down the times that you worked on the\n",
        "assignment, and your contribution to the assignment."
      ]
    },
    {
      "cell_type": "code",
      "execution_count": null,
      "id": "53b2a87e",
      "metadata": {
        "id": "53b2a87e"
      },
      "outputs": [],
      "source": [
        "# Your answer goes here:\n",
        "# Worked alone"
      ]
    }
  ],
  "metadata": {
    "colab": {
      "provenance": []
    },
    "language_info": {
      "name": "python"
    },
    "kernelspec": {
      "name": "python3",
      "display_name": "Python 3"
    },
    "gpuClass": "standard",
    "widgets": {
      "application/vnd.jupyter.widget-state+json": {
        "536cf56e5f6f4d44ae4cc02757a0bf91": {
          "model_module": "@jupyter-widgets/controls",
          "model_name": "HBoxModel",
          "model_module_version": "1.5.0",
          "state": {
            "_dom_classes": [],
            "_model_module": "@jupyter-widgets/controls",
            "_model_module_version": "1.5.0",
            "_model_name": "HBoxModel",
            "_view_count": null,
            "_view_module": "@jupyter-widgets/controls",
            "_view_module_version": "1.5.0",
            "_view_name": "HBoxView",
            "box_style": "",
            "children": [
              "IPY_MODEL_780bfb3943df42c386aa130d9574cd9d",
              "IPY_MODEL_9fd7219d1f86433c9330709cf3bc79e8",
              "IPY_MODEL_3baaa222c9904afc9dca04ed92735f65"
            ],
            "layout": "IPY_MODEL_be85720a4eeb445d9361e67c8477e9cd"
          }
        },
        "780bfb3943df42c386aa130d9574cd9d": {
          "model_module": "@jupyter-widgets/controls",
          "model_name": "HTMLModel",
          "model_module_version": "1.5.0",
          "state": {
            "_dom_classes": [],
            "_model_module": "@jupyter-widgets/controls",
            "_model_module_version": "1.5.0",
            "_model_name": "HTMLModel",
            "_view_count": null,
            "_view_module": "@jupyter-widgets/controls",
            "_view_module_version": "1.5.0",
            "_view_name": "HTMLView",
            "description": "",
            "description_tooltip": null,
            "layout": "IPY_MODEL_ce159a93b6824050b2acc9341dc111e1",
            "placeholder": "​",
            "style": "IPY_MODEL_1919f0e70ae546b6893b2a8ddf821c19",
            "value": "100%"
          }
        },
        "9fd7219d1f86433c9330709cf3bc79e8": {
          "model_module": "@jupyter-widgets/controls",
          "model_name": "FloatProgressModel",
          "model_module_version": "1.5.0",
          "state": {
            "_dom_classes": [],
            "_model_module": "@jupyter-widgets/controls",
            "_model_module_version": "1.5.0",
            "_model_name": "FloatProgressModel",
            "_view_count": null,
            "_view_module": "@jupyter-widgets/controls",
            "_view_module_version": "1.5.0",
            "_view_name": "ProgressView",
            "bar_style": "success",
            "description": "",
            "description_tooltip": null,
            "layout": "IPY_MODEL_722a6956577f4752aba0bbe0b8a3a15e",
            "max": 244408911,
            "min": 0,
            "orientation": "horizontal",
            "style": "IPY_MODEL_3f2a9f02e9d541aea741b5ba4fcccc1f",
            "value": 244408911
          }
        },
        "3baaa222c9904afc9dca04ed92735f65": {
          "model_module": "@jupyter-widgets/controls",
          "model_name": "HTMLModel",
          "model_module_version": "1.5.0",
          "state": {
            "_dom_classes": [],
            "_model_module": "@jupyter-widgets/controls",
            "_model_module_version": "1.5.0",
            "_model_name": "HTMLModel",
            "_view_count": null,
            "_view_module": "@jupyter-widgets/controls",
            "_view_module_version": "1.5.0",
            "_view_name": "HTMLView",
            "description": "",
            "description_tooltip": null,
            "layout": "IPY_MODEL_3efad20432f24a85a74f0791119782c4",
            "placeholder": "​",
            "style": "IPY_MODEL_5ef3ddc9e7144b2685db73fa6807bd74",
            "value": " 233M/233M [00:01&lt;00:00, 137MB/s]"
          }
        },
        "be85720a4eeb445d9361e67c8477e9cd": {
          "model_module": "@jupyter-widgets/base",
          "model_name": "LayoutModel",
          "model_module_version": "1.2.0",
          "state": {
            "_model_module": "@jupyter-widgets/base",
            "_model_module_version": "1.2.0",
            "_model_name": "LayoutModel",
            "_view_count": null,
            "_view_module": "@jupyter-widgets/base",
            "_view_module_version": "1.2.0",
            "_view_name": "LayoutView",
            "align_content": null,
            "align_items": null,
            "align_self": null,
            "border": null,
            "bottom": null,
            "display": null,
            "flex": null,
            "flex_flow": null,
            "grid_area": null,
            "grid_auto_columns": null,
            "grid_auto_flow": null,
            "grid_auto_rows": null,
            "grid_column": null,
            "grid_gap": null,
            "grid_row": null,
            "grid_template_areas": null,
            "grid_template_columns": null,
            "grid_template_rows": null,
            "height": null,
            "justify_content": null,
            "justify_items": null,
            "left": null,
            "margin": null,
            "max_height": null,
            "max_width": null,
            "min_height": null,
            "min_width": null,
            "object_fit": null,
            "object_position": null,
            "order": null,
            "overflow": null,
            "overflow_x": null,
            "overflow_y": null,
            "padding": null,
            "right": null,
            "top": null,
            "visibility": null,
            "width": null
          }
        },
        "ce159a93b6824050b2acc9341dc111e1": {
          "model_module": "@jupyter-widgets/base",
          "model_name": "LayoutModel",
          "model_module_version": "1.2.0",
          "state": {
            "_model_module": "@jupyter-widgets/base",
            "_model_module_version": "1.2.0",
            "_model_name": "LayoutModel",
            "_view_count": null,
            "_view_module": "@jupyter-widgets/base",
            "_view_module_version": "1.2.0",
            "_view_name": "LayoutView",
            "align_content": null,
            "align_items": null,
            "align_self": null,
            "border": null,
            "bottom": null,
            "display": null,
            "flex": null,
            "flex_flow": null,
            "grid_area": null,
            "grid_auto_columns": null,
            "grid_auto_flow": null,
            "grid_auto_rows": null,
            "grid_column": null,
            "grid_gap": null,
            "grid_row": null,
            "grid_template_areas": null,
            "grid_template_columns": null,
            "grid_template_rows": null,
            "height": null,
            "justify_content": null,
            "justify_items": null,
            "left": null,
            "margin": null,
            "max_height": null,
            "max_width": null,
            "min_height": null,
            "min_width": null,
            "object_fit": null,
            "object_position": null,
            "order": null,
            "overflow": null,
            "overflow_x": null,
            "overflow_y": null,
            "padding": null,
            "right": null,
            "top": null,
            "visibility": null,
            "width": null
          }
        },
        "1919f0e70ae546b6893b2a8ddf821c19": {
          "model_module": "@jupyter-widgets/controls",
          "model_name": "DescriptionStyleModel",
          "model_module_version": "1.5.0",
          "state": {
            "_model_module": "@jupyter-widgets/controls",
            "_model_module_version": "1.5.0",
            "_model_name": "DescriptionStyleModel",
            "_view_count": null,
            "_view_module": "@jupyter-widgets/base",
            "_view_module_version": "1.2.0",
            "_view_name": "StyleView",
            "description_width": ""
          }
        },
        "722a6956577f4752aba0bbe0b8a3a15e": {
          "model_module": "@jupyter-widgets/base",
          "model_name": "LayoutModel",
          "model_module_version": "1.2.0",
          "state": {
            "_model_module": "@jupyter-widgets/base",
            "_model_module_version": "1.2.0",
            "_model_name": "LayoutModel",
            "_view_count": null,
            "_view_module": "@jupyter-widgets/base",
            "_view_module_version": "1.2.0",
            "_view_name": "LayoutView",
            "align_content": null,
            "align_items": null,
            "align_self": null,
            "border": null,
            "bottom": null,
            "display": null,
            "flex": null,
            "flex_flow": null,
            "grid_area": null,
            "grid_auto_columns": null,
            "grid_auto_flow": null,
            "grid_auto_rows": null,
            "grid_column": null,
            "grid_gap": null,
            "grid_row": null,
            "grid_template_areas": null,
            "grid_template_columns": null,
            "grid_template_rows": null,
            "height": null,
            "justify_content": null,
            "justify_items": null,
            "left": null,
            "margin": null,
            "max_height": null,
            "max_width": null,
            "min_height": null,
            "min_width": null,
            "object_fit": null,
            "object_position": null,
            "order": null,
            "overflow": null,
            "overflow_x": null,
            "overflow_y": null,
            "padding": null,
            "right": null,
            "top": null,
            "visibility": null,
            "width": null
          }
        },
        "3f2a9f02e9d541aea741b5ba4fcccc1f": {
          "model_module": "@jupyter-widgets/controls",
          "model_name": "ProgressStyleModel",
          "model_module_version": "1.5.0",
          "state": {
            "_model_module": "@jupyter-widgets/controls",
            "_model_module_version": "1.5.0",
            "_model_name": "ProgressStyleModel",
            "_view_count": null,
            "_view_module": "@jupyter-widgets/base",
            "_view_module_version": "1.2.0",
            "_view_name": "StyleView",
            "bar_color": null,
            "description_width": ""
          }
        },
        "3efad20432f24a85a74f0791119782c4": {
          "model_module": "@jupyter-widgets/base",
          "model_name": "LayoutModel",
          "model_module_version": "1.2.0",
          "state": {
            "_model_module": "@jupyter-widgets/base",
            "_model_module_version": "1.2.0",
            "_model_name": "LayoutModel",
            "_view_count": null,
            "_view_module": "@jupyter-widgets/base",
            "_view_module_version": "1.2.0",
            "_view_name": "LayoutView",
            "align_content": null,
            "align_items": null,
            "align_self": null,
            "border": null,
            "bottom": null,
            "display": null,
            "flex": null,
            "flex_flow": null,
            "grid_area": null,
            "grid_auto_columns": null,
            "grid_auto_flow": null,
            "grid_auto_rows": null,
            "grid_column": null,
            "grid_gap": null,
            "grid_row": null,
            "grid_template_areas": null,
            "grid_template_columns": null,
            "grid_template_rows": null,
            "height": null,
            "justify_content": null,
            "justify_items": null,
            "left": null,
            "margin": null,
            "max_height": null,
            "max_width": null,
            "min_height": null,
            "min_width": null,
            "object_fit": null,
            "object_position": null,
            "order": null,
            "overflow": null,
            "overflow_x": null,
            "overflow_y": null,
            "padding": null,
            "right": null,
            "top": null,
            "visibility": null,
            "width": null
          }
        },
        "5ef3ddc9e7144b2685db73fa6807bd74": {
          "model_module": "@jupyter-widgets/controls",
          "model_name": "DescriptionStyleModel",
          "model_module_version": "1.5.0",
          "state": {
            "_model_module": "@jupyter-widgets/controls",
            "_model_module_version": "1.5.0",
            "_model_name": "DescriptionStyleModel",
            "_view_count": null,
            "_view_module": "@jupyter-widgets/base",
            "_view_module_version": "1.2.0",
            "_view_name": "StyleView",
            "description_width": ""
          }
        }
      }
    }
  },
  "nbformat": 4,
  "nbformat_minor": 5
}